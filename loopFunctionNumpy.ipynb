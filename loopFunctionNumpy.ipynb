{
 "cells": [
  {
   "cell_type": "code",
   "execution_count": 1,
   "id": "29792015",
   "metadata": {},
   "outputs": [
    {
     "name": "stdout",
     "output_type": "stream",
     "text": [
      "1\n",
      "4\n",
      "6\n",
      "7\n",
      "76\n",
      "546\n",
      "43\n",
      "43\n"
     ]
    }
   ],
   "source": [
    "#loops\n",
    "\n",
    "#for loops we know the number of times it will execute.\n",
    "\n",
    "numbers = [1, 4, 6, 7, 76, 546, 43, 43,]\n",
    "\n",
    "for i in numbers:\n",
    "    print(i)"
   ]
  },
  {
   "cell_type": "code",
   "execution_count": 2,
   "id": "49621244",
   "metadata": {},
   "outputs": [
    {
     "name": "stdout",
     "output_type": "stream",
     "text": [
      "0\n",
      "1\n",
      "2\n",
      "3\n",
      "4\n",
      "5\n",
      "6\n",
      "7\n",
      "8\n",
      "9\n"
     ]
    }
   ],
   "source": [
    "\n",
    "#we are not sure how many times the loop will run to print a function\n",
    "\n",
    "numba = 0\n",
    "\n",
    "while numba < 10:\n",
    "    print(numba)\n",
    "    numba += 1"
   ]
  },
  {
   "cell_type": "code",
   "execution_count": 3,
   "id": "c76da487",
   "metadata": {},
   "outputs": [],
   "source": [
    "i = 5\n",
    "\n",
    "while i < 5:\n",
    "    print(i)\n",
    "    i +=1"
   ]
  },
  {
   "cell_type": "code",
   "execution_count": 40,
   "id": "0bdc4a04",
   "metadata": {},
   "outputs": [
    {
     "name": "stdout",
     "output_type": "stream",
     "text": [
      "Enter a number to find its factorial : 5\n",
      "The factorial of  5  is 120\n"
     ]
    }
   ],
   "source": [
    "#Check this code and make corrections\n",
    "\n",
    "#function is a block of code that can be reused in a program\n",
    "\n",
    "#using python to find the factorial of a number\n",
    "#factorial of 5 = 5*4*3*2*1\n",
    "#factotiaal of zero is 1\n",
    "\n",
    "number = int(input('Enter a number to find its factorial : '))\n",
    "factorial = 1\n",
    "\n",
    "if number == 0:\n",
    "    print('print the factorial of 0 is 1')\n",
    "\n",
    "else:\n",
    "    for i in range(1, number+1):\n",
    "        factorial = factorial*i\n",
    "    print('The factorial of ',number,' is' ,factorial)\n",
    "          \n",
    "\n"
   ]
  },
  {
   "cell_type": "markdown",
   "id": "a1154bdc",
   "metadata": {},
   "source": [
    "factorial function"
   ]
  },
  {
   "cell_type": "code",
   "execution_count": 5,
   "id": "b52d06f6",
   "metadata": {},
   "outputs": [
    {
     "name": "stdout",
     "output_type": "stream",
     "text": [
      "120\n"
     ]
    }
   ],
   "source": [
    "def factorial_value(num):\n",
    "    factorial = 1\n",
    "    \n",
    "    if num == 0:\n",
    "        return factorial\n",
    "    else:\n",
    "        for i in range(1, num + 1):\n",
    "            factorial *= i\n",
    "        return factorial\n",
    "\n",
    "print(factorial_value(5))\n"
   ]
  },
  {
   "cell_type": "code",
   "execution_count": 6,
   "id": "a328dad0",
   "metadata": {},
   "outputs": [],
   "source": [
    " import numpy as np"
   ]
  },
  {
   "cell_type": "markdown",
   "id": "dc6a5834",
   "metadata": {},
   "source": [
    "List vs Numpy- Time Taken\n",
    "\n",
    "Time taken by a list"
   ]
  },
  {
   "cell_type": "code",
   "execution_count": 7,
   "id": "aa47d83b",
   "metadata": {},
   "outputs": [],
   "source": [
    "from time import process_time"
   ]
  },
  {
   "cell_type": "code",
   "execution_count": 8,
   "id": "4fda3bd4",
   "metadata": {},
   "outputs": [
    {
     "name": "stdout",
     "output_type": "stream",
     "text": [
      "0.0\n"
     ]
    }
   ],
   "source": [
    "python_list = [i for i in range(10000)]\n",
    "\n",
    "start_time = process_time()\n",
    "\n",
    "python_list = [i+5 for i in python_list]\n",
    "\n",
    "end_time = process_time()\n",
    "\n",
    "print(end_time - start_time)"
   ]
  },
  {
   "cell_type": "code",
   "execution_count": 9,
   "id": "0c00aa1b",
   "metadata": {},
   "outputs": [
    {
     "name": "stdout",
     "output_type": "stream",
     "text": [
      "0.0\n"
     ]
    }
   ],
   "source": [
    "np_array = np.array([i for i in range(10000)])\n",
    "start_time = process_time()\n",
    "np_array += 5\n",
    "end_time = process_time()\n",
    "print(end_time - start_time)"
   ]
  },
  {
   "cell_type": "markdown",
   "id": "172dfe5b",
   "metadata": {},
   "source": [
    "# Performing operations in numpy arrays"
   ]
  },
  {
   "cell_type": "code",
   "execution_count": 10,
   "id": "f58963c3",
   "metadata": {},
   "outputs": [
    {
     "name": "stdout",
     "output_type": "stream",
     "text": [
      "[1, 2, 3, 4, 5]\n"
     ]
    },
    {
     "data": {
      "text/plain": [
       "list"
      ]
     },
     "execution_count": 10,
     "metadata": {},
     "output_type": "execute_result"
    }
   ],
   "source": [
    "list1 = [1,2,3,4,5]\n",
    "print(list1)\n",
    "type(list1)"
   ]
  },
  {
   "cell_type": "code",
   "execution_count": 11,
   "id": "12940e5b",
   "metadata": {},
   "outputs": [
    {
     "name": "stdout",
     "output_type": "stream",
     "text": [
      "[1 2 3 4 5]\n"
     ]
    },
    {
     "data": {
      "text/plain": [
       "numpy.ndarray"
      ]
     },
     "execution_count": 11,
     "metadata": {},
     "output_type": "execute_result"
    }
   ],
   "source": [
    "#arrays are simlar to matrics\n",
    "\n",
    "np_array = np.array([1,2,3,4,5])\n",
    "print(np_array)\n",
    "type(np_array)\n"
   ]
  },
  {
   "cell_type": "code",
   "execution_count": 12,
   "id": "31774099",
   "metadata": {},
   "outputs": [
    {
     "name": "stdout",
     "output_type": "stream",
     "text": [
      "[1 2 3 4]\n"
     ]
    },
    {
     "data": {
      "text/plain": [
       "(4,)"
      ]
     },
     "execution_count": 12,
     "metadata": {},
     "output_type": "execute_result"
    }
   ],
   "source": [
    "#creating a one dimentional array\n",
    "\n",
    "a=np.array([1,2,3,4])\n",
    "print(a)\n",
    "a.shape   #it gives the number of rows and columns.\n",
    "\n",
    "#it is a one dimesional one row four column"
   ]
  },
  {
   "cell_type": "code",
   "execution_count": 13,
   "id": "490eef28",
   "metadata": {},
   "outputs": [
    {
     "name": "stdout",
     "output_type": "stream",
     "text": [
      "[[1 2 3 4 5]\n",
      " [0 6 7 8 9]]\n"
     ]
    },
    {
     "data": {
      "text/plain": [
       "(2, 5)"
      ]
     },
     "execution_count": 13,
     "metadata": {},
     "output_type": "execute_result"
    }
   ],
   "source": [
    "b = np.array([(1,2,3,4,5), (0,6,7,8,9)])\n",
    "print(b)\n",
    "b.shape"
   ]
  },
  {
   "cell_type": "code",
   "execution_count": 14,
   "id": "66bde6a3",
   "metadata": {},
   "outputs": [
    {
     "name": "stdout",
     "output_type": "stream",
     "text": [
      "[[1. 2. 3. 4.]\n",
      " [5. 6. 7. 8.]]\n"
     ]
    }
   ],
   "source": [
    "c = np.array([(1,2,3,4),(5,6,7,8)],dtype=float)\n",
    "print(c)\n",
    "\n",
    "#convert it to float ,dtype.float"
   ]
  },
  {
   "cell_type": "markdown",
   "id": "f3b1c905",
   "metadata": {},
   "source": [
    "Initial Placeholders in Numpy Array"
   ]
  },
  {
   "cell_type": "code",
   "execution_count": 15,
   "id": "ebef7545",
   "metadata": {},
   "outputs": [
    {
     "name": "stdout",
     "output_type": "stream",
     "text": [
      "[[0. 0. 0. 0. 0.]\n",
      " [0. 0. 0. 0. 0.]\n",
      " [0. 0. 0. 0. 0.]\n",
      " [0. 0. 0. 0. 0.]]\n"
     ]
    }
   ],
   "source": [
    "#create an array of zeros\n",
    "\n",
    "x = np.zeros((4,5))\n",
    "print(x)"
   ]
  },
  {
   "cell_type": "code",
   "execution_count": 16,
   "id": "4bae75c7",
   "metadata": {},
   "outputs": [
    {
     "name": "stdout",
     "output_type": "stream",
     "text": [
      "[[1. 1. 1.]\n",
      " [1. 1. 1.]\n",
      " [1. 1. 1.]]\n"
     ]
    }
   ],
   "source": [
    "# create a numpy arrays of ones\n",
    "\n",
    "y = np.ones((3,3))\n",
    "print(y)"
   ]
  },
  {
   "cell_type": "code",
   "execution_count": 17,
   "id": "598527de",
   "metadata": {},
   "outputs": [
    {
     "name": "stdout",
     "output_type": "stream",
     "text": [
      "[[5 5 5 5 5]\n",
      " [5 5 5 5 5]\n",
      " [5 5 5 5 5]\n",
      " [5 5 5 5 5]]\n"
     ]
    }
   ],
   "source": [
    "#arrays with a particular vaue\n",
    "\n",
    "c = np.full((4,5),5)\n",
    "print(c)"
   ]
  },
  {
   "cell_type": "code",
   "execution_count": 18,
   "id": "34f54637",
   "metadata": {},
   "outputs": [
    {
     "name": "stdout",
     "output_type": "stream",
     "text": [
      "[[1. 0. 0. 0.]\n",
      " [0. 1. 0. 0.]\n",
      " [0. 0. 1. 0.]\n",
      " [0. 0. 0. 1.]]\n"
     ]
    }
   ],
   "source": [
    "#creating and identity matrix\n",
    "#identity matrix means all diagonal value will be 1 other values will be zero\n",
    "#It has same rows and columns\n",
    "#use in various cases for programing\n",
    "\n",
    "\n",
    "a = np.eye(4)\n",
    "print(a)"
   ]
  },
  {
   "cell_type": "code",
   "execution_count": 19,
   "id": "209fa7f5",
   "metadata": {},
   "outputs": [
    {
     "name": "stdout",
     "output_type": "stream",
     "text": [
      "[[0.23431874 0.34512351 0.71755832 0.12534741]\n",
      " [0.41242199 0.65501121 0.49410837 0.73729994]\n",
      " [0.39789543 0.48926357 0.032683   0.06092061]]\n"
     ]
    }
   ],
   "source": [
    "#create a numpy array with random values\n",
    "\n",
    "b = np.random.random((3, 4))\n",
    "print(b)"
   ]
  },
  {
   "cell_type": "code",
   "execution_count": 20,
   "id": "f602c396",
   "metadata": {},
   "outputs": [
    {
     "name": "stdout",
     "output_type": "stream",
     "text": [
      "[[96 36 79 25]\n",
      " [99 58 32 40]\n",
      " [90 44 39 31]]\n"
     ]
    }
   ],
   "source": [
    "#creating a numpy values within a specific range\n",
    "#The values will be the range of 10 and 100\n",
    "\n",
    "c = np.random.randint(10, 100,(3,4))\n",
    "print(c)"
   ]
  },
  {
   "cell_type": "code",
   "execution_count": 21,
   "id": "6859c543",
   "metadata": {},
   "outputs": [
    {
     "name": "stdout",
     "output_type": "stream",
     "text": [
      "[10. 15. 20. 25. 30.]\n"
     ]
    }
   ],
   "source": [
    "#Array of evenly space values\n",
    "d = np.linspace(10,30,5)  \n",
    "#it meas starting with 10 and spacing with 5 and stop at 30\n",
    "print(d)"
   ]
  },
  {
   "cell_type": "code",
   "execution_count": 22,
   "id": "45ad98e3",
   "metadata": {},
   "outputs": [
    {
     "name": "stdout",
     "output_type": "stream",
     "text": [
      "[10 15 20 25]\n"
     ]
    }
   ],
   "source": [
    "#Array of evenly space values that is arrange depending how you arrange your numbers\n",
    "\n",
    "e = np.arange(10,30,5)\n",
    "print(e)"
   ]
  },
  {
   "cell_type": "code",
   "execution_count": 23,
   "id": "0f2081c3",
   "metadata": {},
   "outputs": [
    {
     "name": "stdout",
     "output_type": "stream",
     "text": [
      "[3, 6, 87, 8]\n",
      "[ 3  6 87  8]\n"
     ]
    },
    {
     "data": {
      "text/plain": [
       "numpy.ndarray"
      ]
     },
     "execution_count": 23,
     "metadata": {},
     "output_type": "execute_result"
    }
   ],
   "source": [
    "#Converting a list to a numpy array\n",
    "list2 = [3,6,87,8]\n",
    "np_array = np.array(list2)\n",
    "\n",
    "print(list2)\n",
    "print(np_array)\n",
    "\n",
    "type(np_array)"
   ]
  },
  {
   "cell_type": "code",
   "execution_count": 24,
   "id": "663d156c",
   "metadata": {},
   "outputs": [
    {
     "name": "stdout",
     "output_type": "stream",
     "text": [
      "[[78 74 52 52 69]\n",
      " [73 51 52 89 43]\n",
      " [11 41 10 10 73]\n",
      " [49 37 49 76 25]\n",
      " [24 36 57 28 34]]\n"
     ]
    }
   ],
   "source": [
    "#Annalyzing  a numpy array\n",
    "\n",
    "g = np.random.randint(10, 90,(5,5))\n",
    "print(g)"
   ]
  },
  {
   "cell_type": "code",
   "execution_count": 25,
   "id": "fceae0db",
   "metadata": {},
   "outputs": [
    {
     "name": "stdout",
     "output_type": "stream",
     "text": [
      "(5, 5)\n"
     ]
    }
   ],
   "source": [
    "#Array dimension\n",
    "print(g.shape)"
   ]
  },
  {
   "cell_type": "code",
   "execution_count": 26,
   "id": "b792417a",
   "metadata": {},
   "outputs": [
    {
     "name": "stdout",
     "output_type": "stream",
     "text": [
      "2\n"
     ]
    }
   ],
   "source": [
    "#Number of dimension\n",
    "print(g.ndim)   #it refers to rows and columns"
   ]
  },
  {
   "cell_type": "code",
   "execution_count": 27,
   "id": "c1ec46cd",
   "metadata": {},
   "outputs": [
    {
     "name": "stdout",
     "output_type": "stream",
     "text": [
      "25\n"
     ]
    }
   ],
   "source": [
    "#Number of elements in an array\n",
    "print(g.size)"
   ]
  },
  {
   "cell_type": "code",
   "execution_count": 28,
   "id": "66cb830a",
   "metadata": {},
   "outputs": [
    {
     "name": "stdout",
     "output_type": "stream",
     "text": [
      "int32\n"
     ]
    }
   ],
   "source": [
    "#Checking the data types\n",
    "\n",
    "print(g.dtype)"
   ]
  },
  {
   "cell_type": "code",
   "execution_count": 29,
   "id": "7d88e017",
   "metadata": {},
   "outputs": [
    {
     "name": "stdout",
     "output_type": "stream",
     "text": [
      "[1, 2, 3, 4, 5, 5, 6, 7, 8, 9, 10]\n"
     ]
    }
   ],
   "source": [
    "#Mathematical operations in array\n",
    "\n",
    "list1 = [1, 2, 3, 4, 5]\n",
    "list3 = [5,6, 7, 8, 9, 10]\n",
    "\n",
    "print(list1 + list3)  #It concanate or joins two list together"
   ]
  },
  {
   "cell_type": "code",
   "execution_count": 30,
   "id": "fa742f61",
   "metadata": {},
   "outputs": [
    {
     "name": "stdout",
     "output_type": "stream",
     "text": [
      "[[2 2 5]\n",
      " [7 0 3]\n",
      " [7 8 3]]\n",
      "[[12 19 14]\n",
      " [10 15 11]\n",
      " [13 10 18]]\n"
     ]
    }
   ],
   "source": [
    "a = np.random.randint(0,10,(3,3))\n",
    "b = np.random.randint(10,20,(3,3))\n",
    "\n",
    "print(a)\n",
    "print(b)"
   ]
  },
  {
   "cell_type": "code",
   "execution_count": 31,
   "id": "3bf602eb",
   "metadata": {},
   "outputs": [
    {
     "name": "stdout",
     "output_type": "stream",
     "text": [
      "[[14 21 19]\n",
      " [17 15 14]\n",
      " [20 18 21]]\n",
      "[[-10 -17  -9]\n",
      " [ -3 -15  -8]\n",
      " [ -6  -2 -15]]\n",
      "[[24 38 70]\n",
      " [70  0 33]\n",
      " [91 80 54]]\n",
      "[[0.16666667 0.10526316 0.35714286]\n",
      " [0.7        0.         0.27272727]\n",
      " [0.53846154 0.8        0.16666667]]\n",
      "[[2 2 5]\n",
      " [7 0 3]\n",
      " [7 8 3]]\n"
     ]
    }
   ],
   "source": [
    "print(a+b)\n",
    "print(a-b)\n",
    "print(a*b)\n",
    "print(a/b)\n",
    "print(a%b)"
   ]
  },
  {
   "cell_type": "code",
   "execution_count": 32,
   "id": "ace70b63",
   "metadata": {},
   "outputs": [
    {
     "name": "stdout",
     "output_type": "stream",
     "text": [
      "[[1 9 1]\n",
      " [6 7 3]\n",
      " [4 7 3]]\n",
      "[[18 11 18]\n",
      " [14 12 15]\n",
      " [16 14 14]]\n"
     ]
    }
   ],
   "source": [
    "a = np.random.randint(0,10,(3,3))\n",
    "b = np.random.randint(10,20,(3,3))\n",
    "\n",
    "print(a)\n",
    "print(b)"
   ]
  },
  {
   "cell_type": "code",
   "execution_count": 33,
   "id": "eaefadb8",
   "metadata": {},
   "outputs": [
    {
     "name": "stdout",
     "output_type": "stream",
     "text": [
      "[[19 20 19]\n",
      " [20 19 18]\n",
      " [20 21 17]]\n",
      "[[-17  -2 -17]\n",
      " [ -8  -5 -12]\n",
      " [-12  -7 -11]]\n"
     ]
    }
   ],
   "source": [
    "#Another method\n",
    "print(np.add(a,b))\n",
    "print(np.subtract(a,b))"
   ]
  },
  {
   "cell_type": "markdown",
   "id": "06ca2f4e",
   "metadata": {},
   "source": [
    "# Array Manipulation"
   ]
  },
  {
   "cell_type": "code",
   "execution_count": 34,
   "id": "3856a064",
   "metadata": {},
   "outputs": [
    {
     "name": "stdout",
     "output_type": "stream",
     "text": [
      "[[5 7 3]\n",
      " [2 8 9]\n",
      " [6 6 2]]\n"
     ]
    }
   ],
   "source": [
    "#Method 1\n",
    "array = np.random.randint(0,10,(3,3))\n",
    "print(array)\n"
   ]
  },
  {
   "cell_type": "code",
   "execution_count": 35,
   "id": "8f37baff",
   "metadata": {},
   "outputs": [
    {
     "name": "stdout",
     "output_type": "stream",
     "text": [
      "[[5 2 6]\n",
      " [7 8 6]\n",
      " [3 9 2]]\n"
     ]
    }
   ],
   "source": [
    "trans = np.transpose(array)\n",
    "print(trans)"
   ]
  },
  {
   "cell_type": "code",
   "execution_count": 36,
   "id": "3e634d61",
   "metadata": {},
   "outputs": [
    {
     "name": "stdout",
     "output_type": "stream",
     "text": [
      "[[9 3 6]\n",
      " [1 6 3]\n",
      " [3 7 0]]\n"
     ]
    }
   ],
   "source": [
    "#Method2\n",
    "array2 = np.random.randint(0,10,(3,3))\n",
    "print(array2)"
   ]
  },
  {
   "cell_type": "code",
   "execution_count": 37,
   "id": "206fe6ea",
   "metadata": {},
   "outputs": [
    {
     "name": "stdout",
     "output_type": "stream",
     "text": [
      "[[9 1 3]\n",
      " [3 6 7]\n",
      " [6 3 0]]\n"
     ]
    }
   ],
   "source": [
    "trans2 = array2.T\n",
    "print(trans2)"
   ]
  },
  {
   "cell_type": "code",
   "execution_count": 38,
   "id": "d50f34a5",
   "metadata": {},
   "outputs": [
    {
     "name": "stdout",
     "output_type": "stream",
     "text": [
      "[[5 3 1]\n",
      " [7 8 5]]\n",
      "(2, 3)\n"
     ]
    }
   ],
   "source": [
    "#Reshapping Array\n",
    "\n",
    "a = np.random.randint(0,10,(2,3))\n",
    "print(a)\n",
    "print(a.shape)"
   ]
  },
  {
   "cell_type": "code",
   "execution_count": 39,
   "id": "37bce0a9",
   "metadata": {},
   "outputs": [
    {
     "name": "stdout",
     "output_type": "stream",
     "text": [
      "[[5 3]\n",
      " [1 7]\n",
      " [8 5]]\n",
      "(3, 2)\n"
     ]
    }
   ],
   "source": [
    "b = a.reshape(3,2)\n",
    "print(b)\n",
    "print(b.shape)"
   ]
  },
  {
   "cell_type": "code",
   "execution_count": null,
   "id": "b4760298",
   "metadata": {},
   "outputs": [],
   "source": []
  }
 ],
 "metadata": {
  "kernelspec": {
   "display_name": "Python 3 (ipykernel)",
   "language": "python",
   "name": "python3"
  },
  "language_info": {
   "codemirror_mode": {
    "name": "ipython",
    "version": 3
   },
   "file_extension": ".py",
   "mimetype": "text/x-python",
   "name": "python",
   "nbconvert_exporter": "python",
   "pygments_lexer": "ipython3",
   "version": "3.11.5"
  }
 },
 "nbformat": 4,
 "nbformat_minor": 5
}
